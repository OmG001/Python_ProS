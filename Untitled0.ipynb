{
  "nbformat": 4,
  "nbformat_minor": 0,
  "metadata": {
    "colab": {
      "provenance": [],
      "authorship_tag": "ABX9TyPRxB/STJCnjJC0nbNSTKsm",
      "include_colab_link": true
    },
    "kernelspec": {
      "name": "python3",
      "display_name": "Python 3"
    },
    "language_info": {
      "name": "python"
    }
  },
  "cells": [
    {
      "cell_type": "markdown",
      "metadata": {
        "id": "view-in-github",
        "colab_type": "text"
      },
      "source": [
        "<a href=\"https://colab.research.google.com/github/OmG001/Python_ProS/blob/main/Untitled0.ipynb\" target=\"_parent\"><img src=\"https://colab.research.google.com/assets/colab-badge.svg\" alt=\"Open In Colab\"/></a>"
      ]
    },
    {
      "cell_type": "code",
      "execution_count": 2,
      "metadata": {
        "id": "pQpNMweX257n"
      },
      "outputs": [],
      "source": [
        "import numpy as np\n",
        "from sklearn.datasets import load_digits #load dataset form sklearn"
      ]
    },
    {
      "cell_type": "markdown",
      "source": [
        "Load Dataset"
      ],
      "metadata": {
        "id": "59Tun_ft3GAI"
      }
    },
    {
      "cell_type": "code",
      "source": [
        "dataset = load_digits()"
      ],
      "metadata": {
        "id": "uwxe_5dn3FDG"
      },
      "execution_count": 3,
      "outputs": []
    },
    {
      "cell_type": "markdown",
      "source": [
        "Summarize Dataset"
      ],
      "metadata": {
        "id": "Mt0-I2uE3Rm8"
      }
    },
    {
      "cell_type": "code",
      "source": [
        "print (dataset.data)\n",
        "print (dataset. target)\n",
        "\n",
        "print(dataset . data. shape)\n",
        "print (dataset . images . shape)\n",
        "\n",
        "dataimageLength= len (dataset. images)\n",
        "print (dataimageLength)"
      ],
      "metadata": {
        "id": "cr0iiihz3T49"
      },
      "execution_count": null,
      "outputs": []
    },
    {
      "cell_type": "markdown",
      "source": [
        "Visualize the Data"
      ],
      "metadata": {
        "id": "crfj3VXR30CH"
      }
    },
    {
      "cell_type": "code",
      "source": [
        "n=1510 #No. of Sample out of Samples total 1797\n",
        "import matplotlib. pyplot as plt #data visualization\n",
        "plt.gray()\n",
        "plt.matshow (dataset. images [n])\n",
        "plt.show()\n",
        "dataset. images [n]"
      ],
      "metadata": {
        "colab": {
          "base_uri": "https://localhost:8080/",
          "height": 431
        },
        "id": "SUiCzfly32fj",
        "outputId": "2272e39d-5f5b-45cf-c71e-0c31787ffabc"
      },
      "execution_count": 8,
      "outputs": [
        {
          "output_type": "display_data",
          "data": {
            "text/plain": [
              "<Figure size 432x288 with 0 Axes>"
            ]
          },
          "metadata": {}
        },
        {
          "output_type": "display_data",
          "data": {
            "text/plain": [
              "<Figure size 288x288 with 1 Axes>"
            ],
            "image/png": "[encoded data removed]"
          },
          "metadata": {
            "needs_background": "light"
          }
        },
        {
          "output_type": "execute_result",
          "data": {
            "text/plain": [
              "array([[ 0.,  0.,  0., 12., 10.,  0.,  0.,  0.],\n",
              "       [ 0.,  0.,  4., 15.,  7.,  0.,  0.,  0.],\n",
              "       [ 0.,  0., 15.,  4.,  0.,  0.,  0.,  0.],\n",
              "       [ 0.,  1., 16.,  7.,  1.,  0.,  0.,  0.],\n",
              "       [ 0.,  4., 16., 14., 16., 13.,  1.,  0.],\n",
              "       [ 0.,  1., 16.,  0.,  1., 10., 11.,  0.],\n",
              "       [ 0.,  0., 14.,  9.,  1.,  8., 12.,  0.],\n",
              "       [ 0.,  0.,  2., 10., 16., 16.,  5.,  0.]])"
            ]
          },
          "metadata": {},
          "execution_count": 8
        }
      ]
    },
    {
      "cell_type": "markdown",
      "source": [
        "Segregate the Dataset into X(ip /independent var) & Y(op / depen)\n",
        "Input-pixel/Output-class"
      ],
      "metadata": {
        "id": "DscIbDiq4GvU"
      }
    },
    {
      "cell_type": "code",
      "source": [
        "X = dataset.images.reshape((dataimageLength,-1))\n",
        "X"
      ],
      "metadata": {
        "colab": {
          "base_uri": "https://localhost:8080/"
        },
        "id": "8Hzx8_al4yE_",
        "outputId": "fac89b46-4cf1-436a-b241-271210487ad5"
      },
      "execution_count": 9,
      "outputs": [
        {
          "output_type": "execute_result",
          "data": {
            "text/plain": [
              "array([[ 0.,  0.,  5., ...,  0.,  0.,  0.],\n",
              "       [ 0.,  0.,  0., ..., 10.,  0.,  0.],\n",
              "       [ 0.,  0.,  0., ..., 16.,  9.,  0.],\n",
              "       ...,\n",
              "       [ 0.,  0.,  1., ...,  6.,  0.,  0.],\n",
              "       [ 0.,  0.,  2., ..., 12.,  0.,  0.],\n",
              "       [ 0.,  0., 10., ..., 12.,  1.,  0.]])"
            ]
          },
          "metadata": {},
          "execution_count": 9
        }
      ]
    },
    {
      "cell_type": "code",
      "source": [
        "Y = dataset.target\n",
        "Y"
      ],
      "metadata": {
        "colab": {
          "base_uri": "https://localhost:8080/"
        },
        "id": "WznoIyO549-4",
        "outputId": "22c1d93d-4123-41db-e812-3fad263e6049"
      },
      "execution_count": 11,
      "outputs": [
        {
          "output_type": "execute_result",
          "data": {
            "text/plain": [
              "array([0, 1, 2, ..., 8, 9, 8])"
            ]
          },
          "metadata": {},
          "execution_count": 11
        }
      ]
    },
    {
      "cell_type": "markdown",
      "source": [
        "Spliting dataset into Train & Test"
      ],
      "metadata": {
        "id": "b0nY2xqD5Ht5"
      }
    },
    {
      "cell_type": "code",
      "source": [
        "from sklearn . model_selection import train_test_split\n",
        "X_train, X_test, y_train, y_test= train_test_split(X, Y, test_size =0.25, random_state =0)\n",
        "print (X_train. shape)\n",
        "print (X_test. shape)"
      ],
      "metadata": {
        "colab": {
          "base_uri": "https://localhost:8080/"
        },
        "id": "dvcp-qUf5Lue",
        "outputId": "606b6569-e590-4812-a5ce-dd69cfbb1fc0"
      },
      "execution_count": 12,
      "outputs": [
        {
          "output_type": "stream",
          "name": "stdout",
          "text": [
            "(1347, 64)\n",
            "(450, 64)\n"
          ]
        }
      ]
    },
    {
      "cell_type": "markdown",
      "source": [
        "TRaining"
      ],
      "metadata": {
        "id": "494wbAPs5we7"
      }
    },
    {
      "cell_type": "code",
      "source": [
        "from sklearn import svm\n",
        "model = svm.SVC(gamma=0.001)\n",
        "model.fit(X_train,y_train)"
      ],
      "metadata": {
        "colab": {
          "base_uri": "https://localhost:8080/"
        },
        "id": "rAvcpw5i5ypp",
        "outputId": "8e04f275-699a-4d53-a3dc-fd2916cb0b8f"
      },
      "execution_count": 13,
      "outputs": [
        {
          "output_type": "execute_result",
          "data": {
            "text/plain": [
              "SVC(gamma=0.001)"
            ]
          },
          "metadata": {},
          "execution_count": 13
        }
      ]
    },
    {
      "cell_type": "markdown",
      "source": [
        "Predicting what the digit is from Test Data"
      ],
      "metadata": {
        "id": "gvfE6WIb6F2g"
      }
    },
    {
      "cell_type": "code",
      "source": [
        "n=155\n",
        "result= model . predict (dataset . images [n] . reshape( (1, -1)))\n",
        "plt.imshow(dataset.images[n] , cmap=plt.cm.gray_r, interpolation= 'nearest' )\n",
        "print (result)\n",
        "print(\"\\n\")\n",
        "plt.axis('off')\n",
        "plt.title('%i'%result)\n",
        "plt.show()"
      ],
      "metadata": {
        "colab": {
          "base_uri": "https://localhost:8080/",
          "height": 316
        },
        "id": "ZleUUWBX6LG-",
        "outputId": "2fe0b842-34f2-4f0c-da8d-97c416badd4c"
      },
      "execution_count": 21,
      "outputs": [
        {
          "output_type": "stream",
          "name": "stdout",
          "text": [
            "[5]\n",
            "\n",
            "\n"
          ]
        },
        {
          "output_type": "display_data",
          "data": {
            "text/plain": [
              "<Figure size 432x288 with 1 Axes>"
            ],
            "image/png": "[encoded data removed]"
          },
          "metadata": {
            "needs_background": "light"
          }
        }
      ]
    },
    {
      "cell_type": "markdown",
      "source": [
        "Predicting for Test Data"
      ],
      "metadata": {
        "id": "8TylxgwZ6n9l"
      }
    },
    {
      "cell_type": "code",
      "source": [
        "y_pred = model.predict(X_test)"
      ],
      "metadata": {
        "id": "WBjakvdd6sA_"
      },
      "execution_count": 14,
      "outputs": []
    },
    {
      "cell_type": "markdown",
      "source": [
        "Evaluate Model Accuracy scorre"
      ],
      "metadata": {
        "id": "GZhRIax565Ht"
      }
    },
    {
      "cell_type": "code",
      "source": [
        "from sklearn.metrics import accuracy_score \n",
        "print(\"Accuracy of the model : {0}%\".format(accuracy_score (y_test,y_pred)*100))"
      ],
      "metadata": {
        "colab": {
          "base_uri": "https://localhost:8080/"
        },
        "id": "dzig3tWp694n",
        "outputId": "2be5a7cc-5552-431c-8190-a5990e9992f4"
      },
      "execution_count": 15,
      "outputs": [
        {
          "output_type": "stream",
          "name": "stdout",
          "text": [
            "Accuracy of the model : 99.55555555555556%\n"
          ]
        }
      ]
    },
    {
      "cell_type": "markdown",
      "source": [
        "tunning / enhancing the model"
      ],
      "metadata": {
        "id": "uO3UCmyr8cbk"
      }
    },
    {
      "cell_type": "code",
      "source": [
        "from sklearn import svm\n",
        "model1= svm.SVC(kernel=\"linear\")\n",
        "model3 =svm.SVC (gamma=0.001)\n",
        "model4= svm. SVC(gamma=0.001, C=0.1)\n",
        "model1.fit(X_train,y_train)\n",
        "model3.fit(X_train,y_train)\n",
        "model4.fit(X_train, y_train)\n",
        "y_predModel1= model1.predict(X_test)\n",
        "y_predModel3= model3.predict (X_test)\n",
        "y_predModel4 = model4.predict (X_test)\n",
        "print(\"Accuracy of the Model 1: {0}%\".format (accuracy_score (y_test, y_predModel1) *100) )\n",
        "print(\"Accuracy of the Model 3: {0}%\".format (accuracy_score (y_test, y_predModel3) *100) )\n",
        "print(\"Accuracy of the Model 4: {0}%\".format (accuracy_score (y_test, y_predModel4) *100) )"
      ],
      "metadata": {
        "colab": {
          "base_uri": "https://localhost:8080/"
        },
        "id": "tza_eDbC8fXQ",
        "outputId": "4331fd15-292c-4035-d86c-4480d81eec8b"
      },
      "execution_count": 25,
      "outputs": [
        {
          "output_type": "stream",
          "name": "stdout",
          "text": [
            "Accuracy of the Model 1: 97.11111111111111%\n",
            "Accuracy of the Model 3: 99.55555555555556%\n",
            "Accuracy of the Model 4: 96.66666666666667%\n"
          ]
        }
      ]
    }
  ]
}