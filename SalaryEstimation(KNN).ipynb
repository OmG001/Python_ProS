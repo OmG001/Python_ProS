{
  "nbformat": 4,
  "nbformat_minor": 0,
  "metadata": {
    "colab": {
      "provenance": [],
      "collapsed_sections": [],
      "authorship_tag": "ABX9TyPiBg4msbV2wG4KXjtiUfyN",
      "include_colab_link": true
    },
    "kernelspec": {
      "name": "python3",
      "display_name": "Python 3"
    },
    "language_info": {
      "name": "python"
    }
  },
  "cells": [
    {
      "cell_type": "markdown",
      "metadata": {
        "id": "view-in-github",
        "colab_type": "text"
      },
      "source": [
        "<a href=\"https://colab.research.google.com/github/OmG001/Python_ProS/blob/main/SalaryEstimation(KNN).ipynb\" target=\"_parent\"><img src=\"https://colab.research.google.com/assets/colab-badge.svg\" alt=\"Open In Colab\"/></a>"
      ]
    },
    {
      "cell_type": "markdown",
      "source": [
        "Installing Libraries"
      ],
      "metadata": {
        "id": "Bhd2uWIHdCts"
      }
    },
    {
      "cell_type": "code",
      "execution_count": 1,
      "metadata": {
        "id": "J8o7FWjlc0iv"
      },
      "outputs": [],
      "source": [
        "import pandas as pd\n",
        "import numpy as np\n",
        "#to install any lib in colab \"!pip install numpy\""
      ]
    },
    {
      "cell_type": "markdown",
      "source": [
        "Uploading dataset"
      ],
      "metadata": {
        "id": "fQUnCuLddouL"
      }
    },
    {
      "cell_type": "code",
      "source": [
        "from google.colab import files\n",
        "uploaded = files.upload()"
      ],
      "metadata": {
        "id": "dypC1HxGdgWu"
      },
      "execution_count": null,
      "outputs": []
    },
    {
      "cell_type": "markdown",
      "source": [
        "load ds"
      ],
      "metadata": {
        "id": "_Nhe57GIdtVE"
      }
    },
    {
      "cell_type": "code",
      "source": [
        "dataset = pd.read_csv('salary.csv')\n",
        "dataset"
      ],
      "metadata": {
        "id": "SxO5sj7idur1"
      },
      "execution_count": null,
      "outputs": []
    },
    {
      "cell_type": "markdown",
      "source": [
        "Summarize Dataset"
      ],
      "metadata": {
        "id": "m_tZWx81d4vD"
      }
    },
    {
      "cell_type": "code",
      "source": [
        "print(dataset.shape)\n",
        "print(dataset.head(5))"
      ],
      "metadata": {
        "id": "3i9xkTAed6_8"
      },
      "execution_count": null,
      "outputs": []
    },
    {
      "cell_type": "markdown",
      "source": [
        "Mapping salary data to binary value"
      ],
      "metadata": {
        "id": "ihQt-n_YeE4I"
      }
    },
    {
      "cell_type": "code",
      "source": [
        "income_set = set(dataset['income'])\n",
        "dataset['income'] =dataset['income'].map({'<=50k':0, '>50k':1}).astype(int)\n",
        "print(dataset.head(20))"
      ],
      "metadata": {
        "id": "o-CzBHiheMWT"
      },
      "execution_count": null,
      "outputs": []
    },
    {
      "cell_type": "markdown",
      "source": [
        "Segrate dataset into input and output"
      ],
      "metadata": {
        "id": "pjZGDRVNezYh"
      }
    },
    {
      "cell_type": "code",
      "source": [
        "X = dataset.iloc[:,:-1].values\n",
        "X"
      ],
      "metadata": {
        "id": "PEs7jrLye3TZ"
      },
      "execution_count": null,
      "outputs": []
    },
    {
      "cell_type": "code",
      "source": [
        "Y = dataset.iloc[:,-1].values\n",
        "Y"
      ],
      "metadata": {
        "id": "IWns3h0Lf-xI"
      },
      "execution_count": null,
      "outputs": []
    },
    {
      "cell_type": "markdown",
      "source": [
        "Spliting Dataset into Train & Test"
      ],
      "metadata": {
        "id": "ydAEobF1gGpR"
      }
    },
    {
      "cell_type": "code",
      "source": [
        "from sklearn.model_selection import train_test_split \n",
        "X_train, X_test, y_train, y_test = train_test_split(X,Y, test_size =0.25, random_state=0)"
      ],
      "metadata": {
        "id": "tPNJmE7ggKHd"
      },
      "execution_count": null,
      "outputs": []
    },
    {
      "cell_type": "markdown",
      "source": [
        "feature Scaling"
      ],
      "metadata": {
        "id": "1hpYMAvIg0LH"
      }
    },
    {
      "cell_type": "code",
      "source": [
        "from sklearn.preprocessing import StandardScaler\n",
        "sc= StandardScaler()\n",
        "X_train = sc.fit_transform (X_train)\n",
        "X_test =sc.transform(X_test)\n",
        "X_train"
      ],
      "metadata": {
        "id": "0bQxf3exg2MW"
      },
      "execution_count": null,
      "outputs": []
    },
    {
      "cell_type": "markdown",
      "source": [
        "Finding best K value"
      ],
      "metadata": {
        "id": "PnZO1s96hS80"
      }
    },
    {
      "cell_type": "code",
      "source": [
        "error=[]\n",
        "from sklearn. neighbors import KNeighborsClassifier #alg.\n",
        "import matplotlib.pyplot as plt #Data Visualisation\n",
        "#Calculating error for K values between 1 and 40\n",
        "for i in range(1, 40) :\n",
        "  model= KNeighborsClassifier(n_neighbors=i)\n",
        "  model.fit (X_train, y_train)\n",
        "  pred_i =model.predict(X_test)\n",
        "  error.append(np.mean(pred_i != y_test))\n",
        "plt.figure(figsize= (12, 6))\n",
        "plt.plot(range(1, 40), error, color= \"red\" , linestyle= \"dashed \", marker=\"o\", \n",
        "         markerfacecolor='blue' markersize=10)\n",
        "plt.title('Error Rate K Value')\n",
        "plt.xlabel('K Value')\n",
        "plt.ylabel('Mean Error')"
      ],
      "metadata": {
        "id": "ui5iszp2hVeK"
      },
      "execution_count": null,
      "outputs": []
    },
    {
      "cell_type": "markdown",
      "source": [
        "Training"
      ],
      "metadata": {
        "id": "MBVLMVZhi6GB"
      }
    },
    {
      "cell_type": "code",
      "source": [
        "from sklearn.neighbors import KNeighborsClassifier\n",
        "model = KNeighborsClassifier(n_neighbors= 5, metric ='minkowski', p=2)\n",
        "model.fit(X_train, y_train)"
      ],
      "metadata": {
        "id": "hZHTaZiTi8sp"
      },
      "execution_count": null,
      "outputs": []
    },
    {
      "cell_type": "markdown",
      "source": [
        "Predicting"
      ],
      "metadata": {
        "id": "8i0jlPGwjlAD"
      }
    },
    {
      "cell_type": "code",
      "source": [
        "y_pred= model.predict(X_test)"
      ],
      "metadata": {
        "id": "0FUI8xeMjoQj"
      },
      "execution_count": null,
      "outputs": []
    },
    {
      "cell_type": "markdown",
      "source": [
        "Evaluating Model COFUSION MATRIX"
      ],
      "metadata": {
        "id": "A6iA4PDkj2Ln"
      }
    },
    {
      "cell_type": "code",
      "source": [
        "from sklearn.metrics import confusion_matrix, accuracy_score\n",
        "print(\"Accuracy of the model : {0}%\".format(accuracy_score(y_test, y_pred)*100))"
      ],
      "metadata": {
        "id": "-a0CygDvj6O-"
      },
      "execution_count": null,
      "outputs": []
    }
  ]
}